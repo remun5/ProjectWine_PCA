{
  "nbformat": 4,
  "nbformat_minor": 0,
  "metadata": {
    "colab": {
      "name": "ProjectWine_PCA.ipynb",
      "provenance": [],
      "authorship_tag": "ABX9TyOCS0t+cGQ+kpm7a36YFlvU",
      "include_colab_link": true
    },
    "kernelspec": {
      "name": "python3",
      "display_name": "Python 3"
    }
  },
  "cells": [
    {
      "cell_type": "markdown",
      "metadata": {
        "id": "view-in-github",
        "colab_type": "text"
      },
      "source": [
        "<a href=\"https://colab.research.google.com/github/remun5/ProjectWine_PCA/blob/master/ProjectWine_PCA.ipynb\" target=\"_parent\"><img src=\"https://colab.research.google.com/assets/colab-badge.svg\" alt=\"Open In Colab\"/></a>"
      ]
    },
    {
      "cell_type": "markdown",
      "metadata": {
        "id": "xGF_hIqTNrnl",
        "colab_type": "text"
      },
      "source": [
        "## **PCA of Project Wine:**\n"
      ]
    },
    {
      "cell_type": "markdown",
      "metadata": {
        "id": "DDVYP4prOXZB",
        "colab_type": "text"
      },
      "source": [
        "In this project, we will look into dimensionality reduction using principal component analysis (PCA). The main idea of PCA is to transform a higher dimensional feature space to a lower dimensional space, composed of m orthogonal basis vectors for n features with m < n. The PCA is done by either singular value decomposition (SVD) of the design matrix or the eigenvalue of the covariance matrix."
      ]
    },
    {
      "cell_type": "code",
      "metadata": {
        "id": "LnihY8V6uePL",
        "colab_type": "code",
        "colab": {
          "base_uri": "https://localhost:8080/",
          "height": 71
        },
        "outputId": "00963ab8-563e-4f9a-af90-598b849c7c24"
      },
      "source": [
        "import numpy as np\n",
        "import seaborn as sns\n",
        "import pandas as pd\n",
        "import matplotlib.pyplot as plt\n",
        "sns.set()"
      ],
      "execution_count": 6,
      "outputs": [
        {
          "output_type": "stream",
          "text": [
            "/usr/local/lib/python3.6/dist-packages/statsmodels/tools/_testing.py:19: FutureWarning: pandas.util.testing is deprecated. Use the functions in the public API at pandas.testing instead.\n",
            "  import pandas.util.testing as tm\n"
          ],
          "name": "stderr"
        }
      ]
    },
    {
      "cell_type": "code",
      "metadata": {
        "id": "DvN2VGQIuk4Z",
        "colab_type": "code",
        "colab": {
          "base_uri": "https://localhost:8080/",
          "height": 221
        },
        "outputId": "f6747713-4fd5-4cb8-da35-097f8ab1f912"
      },
      "source": [
        "col_name = ['Class','Alcohol','Malic Acid','Ash','Alkalinity of Ash','Magnesium','Total Phenols','Flavonoid','Non Flavonoid Phenols','Proanthocyanins','Color Intensity','Hue','OD280/OD315 of diluted wines', 'Proline']\n",
        "!wget https://archive.ics.uci.edu/ml/machine-learning-databases/wine/wine.data\n",
        "df = pd.read_csv('wine.data', names=col_name, header=None)\n",
        "df.shape"
      ],
      "execution_count": 7,
      "outputs": [
        {
          "output_type": "stream",
          "text": [
            "--2020-08-11 13:43:18--  https://archive.ics.uci.edu/ml/machine-learning-databases/wine/wine.data\n",
            "Resolving archive.ics.uci.edu (archive.ics.uci.edu)... 128.195.10.252\n",
            "Connecting to archive.ics.uci.edu (archive.ics.uci.edu)|128.195.10.252|:443... connected.\n",
            "HTTP request sent, awaiting response... 200 OK\n",
            "Length: 10782 (11K) [application/x-httpd-php]\n",
            "Saving to: ‘wine.data.1’\n",
            "\n",
            "\rwine.data.1           0%[                    ]       0  --.-KB/s               \rwine.data.1         100%[===================>]  10.53K  --.-KB/s    in 0s      \n",
            "\n",
            "2020-08-11 13:43:19 (97.3 MB/s) - ‘wine.data.1’ saved [10782/10782]\n",
            "\n"
          ],
          "name": "stdout"
        },
        {
          "output_type": "execute_result",
          "data": {
            "text/plain": [
              "(178, 14)"
            ]
          },
          "metadata": {
            "tags": []
          },
          "execution_count": 7
        }
      ]
    },
    {
      "cell_type": "markdown",
      "metadata": {
        "id": "qVG4H82pwLuX",
        "colab_type": "text"
      },
      "source": [
        "This project analyzes a wines dataset available to the public through the University of California Irvine Machine Learning repository. The dataset consists of 178 Italian wine samples, all from the same geographic region, but from 3 different regions. As you can see above, the total number of data are 178, and there are 13 different features and one target column. The target column consists of numbers 1, 2 and 3 identifying the region the wine comes from. "
      ]
    },
    {
      "cell_type": "code",
      "metadata": {
        "id": "FxNraM-cvn2_",
        "colab_type": "code",
        "colab": {}
      },
      "source": [
        "X = df.iloc[:, 1:]\n",
        "X.head()\n",
        "y = df['Class']"
      ],
      "execution_count": 8,
      "outputs": []
    },
    {
      "cell_type": "code",
      "metadata": {
        "id": "wEdaGU7oNEkH",
        "colab_type": "code",
        "colab": {
          "base_uri": "https://localhost:8080/",
          "height": 119
        },
        "outputId": "2cd1f370-04f8-43d0-a0fa-1684c8d2af9f"
      },
      "source": [
        "y.head()"
      ],
      "execution_count": 9,
      "outputs": [
        {
          "output_type": "execute_result",
          "data": {
            "text/plain": [
              "0    1\n",
              "1    1\n",
              "2    1\n",
              "3    1\n",
              "4    1\n",
              "Name: Class, dtype: int64"
            ]
          },
          "metadata": {
            "tags": []
          },
          "execution_count": 9
        }
      ]
    },
    {
      "cell_type": "code",
      "metadata": {
        "id": "0of3RPxqwAd_",
        "colab_type": "code",
        "colab": {}
      },
      "source": [
        "from sklearn.model_selection import train_test_split\n",
        "\n",
        "X_train, X_test, y_train, y_test = train_test_split(X, y, test_size=.2, random_state=42)"
      ],
      "execution_count": 12,
      "outputs": []
    },
    {
      "cell_type": "markdown",
      "metadata": {
        "id": "TmQIofjnx0RR",
        "colab_type": "text"
      },
      "source": [
        "Before PCA, it is important to bring all the data to the same scale."
      ]
    },
    {
      "cell_type": "code",
      "metadata": {
        "id": "4XcZ1qxhwNOU",
        "colab_type": "code",
        "colab": {}
      },
      "source": [
        "from sklearn.preprocessing import StandardScaler\n",
        "\n",
        "sc = StandardScaler()"
      ],
      "execution_count": 13,
      "outputs": []
    },
    {
      "cell_type": "code",
      "metadata": {
        "id": "lAQUaPhjwUuX",
        "colab_type": "code",
        "colab": {}
      },
      "source": [
        "sc.fit(X_train)\n",
        "X_train_sc = sc.transform(X_train)\n",
        "X_test_sc = sc.transform(X_test)"
      ],
      "execution_count": 14,
      "outputs": []
    },
    {
      "cell_type": "markdown",
      "metadata": {
        "id": "m8BTppMOyGdM",
        "colab_type": "text"
      },
      "source": [
        "## PCA Algorithm:"
      ]
    },
    {
      "cell_type": "markdown",
      "metadata": {
        "id": "8-ll_hjIyNLf",
        "colab_type": "text"
      },
      "source": [
        "As our first task, we will try to manually compute the PCA. From 13 features, we will reduce the data to 2 dimensional data and visualize."
      ]
    },
    {
      "cell_type": "code",
      "metadata": {
        "id": "5qxgutJoz_CN",
        "colab_type": "code",
        "colab": {}
      },
      "source": [
        "from numpy.linalg import svd"
      ],
      "execution_count": 15,
      "outputs": []
    },
    {
      "cell_type": "code",
      "metadata": {
        "id": "vxt3YZpu0EV_",
        "colab_type": "code",
        "colab": {}
      },
      "source": [
        "u, s, vh = svd(X_train_sc,  full_matrices=True)\n",
        "explained_variances = s**2\n",
        "explained_variances_ratio = explained_variances/sum(explained_variances, 1) "
      ],
      "execution_count": 62,
      "outputs": []
    },
    {
      "cell_type": "code",
      "metadata": {
        "id": "Bf00VfSv_Odi",
        "colab_type": "code",
        "colab": {}
      },
      "source": [
        "transformed = np.matmul(vh, X_train_sc.T)\n"
      ],
      "execution_count": 67,
      "outputs": []
    },
    {
      "cell_type": "code",
      "metadata": {
        "id": "YTg9kGeX_1sm",
        "colab_type": "code",
        "colab": {
          "base_uri": "https://localhost:8080/",
          "height": 419
        },
        "outputId": "2260ec9c-0083-4aab-f1d7-078f35e0c559"
      },
      "source": [
        "-pd.DataFrame(transformed.T)"
      ],
      "execution_count": 68,
      "outputs": [
        {
          "output_type": "execute_result",
          "data": {
            "text/html": [
              "<div>\n",
              "<style scoped>\n",
              "    .dataframe tbody tr th:only-of-type {\n",
              "        vertical-align: middle;\n",
              "    }\n",
              "\n",
              "    .dataframe tbody tr th {\n",
              "        vertical-align: top;\n",
              "    }\n",
              "\n",
              "    .dataframe thead th {\n",
              "        text-align: right;\n",
              "    }\n",
              "</style>\n",
              "<table border=\"1\" class=\"dataframe\">\n",
              "  <thead>\n",
              "    <tr style=\"text-align: right;\">\n",
              "      <th></th>\n",
              "      <th>0</th>\n",
              "      <th>1</th>\n",
              "      <th>2</th>\n",
              "      <th>3</th>\n",
              "      <th>4</th>\n",
              "      <th>5</th>\n",
              "      <th>6</th>\n",
              "      <th>7</th>\n",
              "      <th>8</th>\n",
              "      <th>9</th>\n",
              "      <th>10</th>\n",
              "      <th>11</th>\n",
              "      <th>12</th>\n",
              "    </tr>\n",
              "  </thead>\n",
              "  <tbody>\n",
              "    <tr>\n",
              "      <th>0</th>\n",
              "      <td>-1.166027</td>\n",
              "      <td>-3.615327</td>\n",
              "      <td>-1.151285</td>\n",
              "      <td>-1.167179</td>\n",
              "      <td>-0.221634</td>\n",
              "      <td>3.062380</td>\n",
              "      <td>0.553745</td>\n",
              "      <td>-0.918085</td>\n",
              "      <td>0.639966</td>\n",
              "      <td>-0.262397</td>\n",
              "      <td>-0.112150</td>\n",
              "      <td>-0.071476</td>\n",
              "      <td>-0.755592</td>\n",
              "    </tr>\n",
              "    <tr>\n",
              "      <th>1</th>\n",
              "      <td>-3.862612</td>\n",
              "      <td>-0.482177</td>\n",
              "      <td>-1.727584</td>\n",
              "      <td>-0.467086</td>\n",
              "      <td>0.226540</td>\n",
              "      <td>-1.016510</td>\n",
              "      <td>-1.257686</td>\n",
              "      <td>0.113136</td>\n",
              "      <td>0.005981</td>\n",
              "      <td>0.453600</td>\n",
              "      <td>0.504570</td>\n",
              "      <td>0.182884</td>\n",
              "      <td>-0.122403</td>\n",
              "    </tr>\n",
              "    <tr>\n",
              "      <th>2</th>\n",
              "      <td>2.283538</td>\n",
              "      <td>1.275033</td>\n",
              "      <td>0.131677</td>\n",
              "      <td>-1.107830</td>\n",
              "      <td>-0.215798</td>\n",
              "      <td>1.004315</td>\n",
              "      <td>0.979052</td>\n",
              "      <td>0.678263</td>\n",
              "      <td>0.481336</td>\n",
              "      <td>0.777822</td>\n",
              "      <td>0.480180</td>\n",
              "      <td>0.458933</td>\n",
              "      <td>0.415850</td>\n",
              "    </tr>\n",
              "    <tr>\n",
              "      <th>3</th>\n",
              "      <td>-1.678507</td>\n",
              "      <td>-2.496962</td>\n",
              "      <td>-0.556619</td>\n",
              "      <td>-1.131270</td>\n",
              "      <td>0.003420</td>\n",
              "      <td>2.754779</td>\n",
              "      <td>0.666927</td>\n",
              "      <td>-0.150849</td>\n",
              "      <td>0.121445</td>\n",
              "      <td>0.123055</td>\n",
              "      <td>-0.319599</td>\n",
              "      <td>-0.045823</td>\n",
              "      <td>-0.791136</td>\n",
              "    </tr>\n",
              "    <tr>\n",
              "      <th>4</th>\n",
              "      <td>1.572842</td>\n",
              "      <td>0.688203</td>\n",
              "      <td>1.417945</td>\n",
              "      <td>0.425082</td>\n",
              "      <td>0.674013</td>\n",
              "      <td>-0.320546</td>\n",
              "      <td>0.078362</td>\n",
              "      <td>0.127387</td>\n",
              "      <td>-0.251356</td>\n",
              "      <td>0.275627</td>\n",
              "      <td>0.309145</td>\n",
              "      <td>0.119233</td>\n",
              "      <td>0.353050</td>\n",
              "    </tr>\n",
              "    <tr>\n",
              "      <th>...</th>\n",
              "      <td>...</td>\n",
              "      <td>...</td>\n",
              "      <td>...</td>\n",
              "      <td>...</td>\n",
              "      <td>...</td>\n",
              "      <td>...</td>\n",
              "      <td>...</td>\n",
              "      <td>...</td>\n",
              "      <td>...</td>\n",
              "      <td>...</td>\n",
              "      <td>...</td>\n",
              "      <td>...</td>\n",
              "      <td>...</td>\n",
              "    </tr>\n",
              "    <tr>\n",
              "      <th>137</th>\n",
              "      <td>1.646677</td>\n",
              "      <td>0.920966</td>\n",
              "      <td>-1.955566</td>\n",
              "      <td>-0.314591</td>\n",
              "      <td>0.838742</td>\n",
              "      <td>-0.103732</td>\n",
              "      <td>1.441185</td>\n",
              "      <td>-1.878092</td>\n",
              "      <td>1.031495</td>\n",
              "      <td>0.487055</td>\n",
              "      <td>-0.277463</td>\n",
              "      <td>0.363199</td>\n",
              "      <td>-0.251027</td>\n",
              "    </tr>\n",
              "    <tr>\n",
              "      <th>138</th>\n",
              "      <td>-0.248324</td>\n",
              "      <td>2.108473</td>\n",
              "      <td>0.401127</td>\n",
              "      <td>-0.662104</td>\n",
              "      <td>0.363045</td>\n",
              "      <td>0.286398</td>\n",
              "      <td>0.201445</td>\n",
              "      <td>-0.218571</td>\n",
              "      <td>-0.541342</td>\n",
              "      <td>-0.589346</td>\n",
              "      <td>-0.385403</td>\n",
              "      <td>-0.594517</td>\n",
              "      <td>0.226736</td>\n",
              "    </tr>\n",
              "    <tr>\n",
              "      <th>139</th>\n",
              "      <td>4.223390</td>\n",
              "      <td>-2.403459</td>\n",
              "      <td>1.137047</td>\n",
              "      <td>-0.905991</td>\n",
              "      <td>0.673900</td>\n",
              "      <td>0.556481</td>\n",
              "      <td>-0.889966</td>\n",
              "      <td>-0.285528</td>\n",
              "      <td>-0.870520</td>\n",
              "      <td>0.669495</td>\n",
              "      <td>-0.129306</td>\n",
              "      <td>0.205881</td>\n",
              "      <td>-0.047855</td>\n",
              "    </tr>\n",
              "    <tr>\n",
              "      <th>140</th>\n",
              "      <td>-1.805273</td>\n",
              "      <td>1.490920</td>\n",
              "      <td>0.089911</td>\n",
              "      <td>-0.162752</td>\n",
              "      <td>1.215320</td>\n",
              "      <td>1.066063</td>\n",
              "      <td>-0.607321</td>\n",
              "      <td>-0.446454</td>\n",
              "      <td>-0.374641</td>\n",
              "      <td>-0.603541</td>\n",
              "      <td>-0.507303</td>\n",
              "      <td>0.484378</td>\n",
              "      <td>0.466768</td>\n",
              "    </tr>\n",
              "    <tr>\n",
              "      <th>141</th>\n",
              "      <td>-0.078087</td>\n",
              "      <td>1.193279</td>\n",
              "      <td>-1.044400</td>\n",
              "      <td>-0.319054</td>\n",
              "      <td>-0.401311</td>\n",
              "      <td>-0.587957</td>\n",
              "      <td>0.675202</td>\n",
              "      <td>0.814767</td>\n",
              "      <td>0.361991</td>\n",
              "      <td>-0.717003</td>\n",
              "      <td>-0.240251</td>\n",
              "      <td>-0.051802</td>\n",
              "      <td>-0.281537</td>\n",
              "    </tr>\n",
              "  </tbody>\n",
              "</table>\n",
              "<p>142 rows × 13 columns</p>\n",
              "</div>"
            ],
            "text/plain": [
              "           0         1         2   ...        10        11        12\n",
              "0   -1.166027 -3.615327 -1.151285  ... -0.112150 -0.071476 -0.755592\n",
              "1   -3.862612 -0.482177 -1.727584  ...  0.504570  0.182884 -0.122403\n",
              "2    2.283538  1.275033  0.131677  ...  0.480180  0.458933  0.415850\n",
              "3   -1.678507 -2.496962 -0.556619  ... -0.319599 -0.045823 -0.791136\n",
              "4    1.572842  0.688203  1.417945  ...  0.309145  0.119233  0.353050\n",
              "..        ...       ...       ...  ...       ...       ...       ...\n",
              "137  1.646677  0.920966 -1.955566  ... -0.277463  0.363199 -0.251027\n",
              "138 -0.248324  2.108473  0.401127  ... -0.385403 -0.594517  0.226736\n",
              "139  4.223390 -2.403459  1.137047  ... -0.129306  0.205881 -0.047855\n",
              "140 -1.805273  1.490920  0.089911  ... -0.507303  0.484378  0.466768\n",
              "141 -0.078087  1.193279 -1.044400  ... -0.240251 -0.051802 -0.281537\n",
              "\n",
              "[142 rows x 13 columns]"
            ]
          },
          "metadata": {
            "tags": []
          },
          "execution_count": 68
        }
      ]
    },
    {
      "cell_type": "markdown",
      "metadata": {
        "id": "941FkLmNycDj",
        "colab_type": "text"
      },
      "source": [
        "## PCA from Sklearn:"
      ]
    },
    {
      "cell_type": "code",
      "metadata": {
        "id": "6WZnL5YLwelA",
        "colab_type": "code",
        "colab": {}
      },
      "source": [
        "from sklearn.decomposition import PCA"
      ],
      "execution_count": 51,
      "outputs": []
    },
    {
      "cell_type": "code",
      "metadata": {
        "id": "hb4Mi0u8wkDz",
        "colab_type": "code",
        "colab": {
          "base_uri": "https://localhost:8080/",
          "height": 51
        },
        "outputId": "30aa994f-12f7-4513-bae1-468e1585d81d"
      },
      "source": [
        "pca = PCA(n_components=8)\n",
        "pca.fit(X_train_sc)"
      ],
      "execution_count": 52,
      "outputs": [
        {
          "output_type": "execute_result",
          "data": {
            "text/plain": [
              "PCA(copy=True, iterated_power='auto', n_components=8, random_state=None,\n",
              "    svd_solver='auto', tol=0.0, whiten=False)"
            ]
          },
          "metadata": {
            "tags": []
          },
          "execution_count": 52
        }
      ]
    },
    {
      "cell_type": "code",
      "metadata": {
        "id": "arLPi3xOwqrE",
        "colab_type": "code",
        "colab": {
          "base_uri": "https://localhost:8080/",
          "height": 51
        },
        "outputId": "e86e9da2-68ec-4521-bee4-dd748947dda3"
      },
      "source": [
        "pca.explained_variance_ratio_"
      ],
      "execution_count": 53,
      "outputs": [
        {
          "output_type": "execute_result",
          "data": {
            "text/plain": [
              "array([0.35900066, 0.18691934, 0.11606557, 0.07371716, 0.0665386 ,\n",
              "       0.04854582, 0.04195042, 0.02683922])"
            ]
          },
          "metadata": {
            "tags": []
          },
          "execution_count": 53
        }
      ]
    },
    {
      "cell_type": "code",
      "metadata": {
        "id": "dWSBdSp2w0xr",
        "colab_type": "code",
        "colab": {
          "base_uri": "https://localhost:8080/",
          "height": 452
        },
        "outputId": "4ca31b2f-678b-4ba3-db03-d2c9b28da507"
      },
      "source": [
        "pd.DataFrame(np.round(pca.components_, 3), columns = X.columns).T"
      ],
      "execution_count": 54,
      "outputs": [
        {
          "output_type": "execute_result",
          "data": {
            "text/html": [
              "<div>\n",
              "<style scoped>\n",
              "    .dataframe tbody tr th:only-of-type {\n",
              "        vertical-align: middle;\n",
              "    }\n",
              "\n",
              "    .dataframe tbody tr th {\n",
              "        vertical-align: top;\n",
              "    }\n",
              "\n",
              "    .dataframe thead th {\n",
              "        text-align: right;\n",
              "    }\n",
              "</style>\n",
              "<table border=\"1\" class=\"dataframe\">\n",
              "  <thead>\n",
              "    <tr style=\"text-align: right;\">\n",
              "      <th></th>\n",
              "      <th>0</th>\n",
              "      <th>1</th>\n",
              "      <th>2</th>\n",
              "      <th>3</th>\n",
              "      <th>4</th>\n",
              "      <th>5</th>\n",
              "      <th>6</th>\n",
              "      <th>7</th>\n",
              "    </tr>\n",
              "  </thead>\n",
              "  <tbody>\n",
              "    <tr>\n",
              "      <th>Alcohol</th>\n",
              "      <td>0.128</td>\n",
              "      <td>-0.493</td>\n",
              "      <td>-0.185</td>\n",
              "      <td>0.079</td>\n",
              "      <td>-0.310</td>\n",
              "      <td>-0.186</td>\n",
              "      <td>-0.042</td>\n",
              "      <td>0.492</td>\n",
              "    </tr>\n",
              "    <tr>\n",
              "      <th>Malic Acid</th>\n",
              "      <td>-0.256</td>\n",
              "      <td>-0.190</td>\n",
              "      <td>0.142</td>\n",
              "      <td>0.424</td>\n",
              "      <td>0.211</td>\n",
              "      <td>-0.656</td>\n",
              "      <td>0.361</td>\n",
              "      <td>0.019</td>\n",
              "    </tr>\n",
              "    <tr>\n",
              "      <th>Ash</th>\n",
              "      <td>-0.022</td>\n",
              "      <td>-0.317</td>\n",
              "      <td>0.610</td>\n",
              "      <td>-0.207</td>\n",
              "      <td>-0.199</td>\n",
              "      <td>-0.120</td>\n",
              "      <td>-0.180</td>\n",
              "      <td>-0.105</td>\n",
              "    </tr>\n",
              "    <tr>\n",
              "      <th>Alkalinity of Ash</th>\n",
              "      <td>-0.244</td>\n",
              "      <td>0.035</td>\n",
              "      <td>0.595</td>\n",
              "      <td>-0.054</td>\n",
              "      <td>0.094</td>\n",
              "      <td>0.127</td>\n",
              "      <td>-0.255</td>\n",
              "      <td>0.394</td>\n",
              "    </tr>\n",
              "    <tr>\n",
              "      <th>Magnesium</th>\n",
              "      <td>0.148</td>\n",
              "      <td>-0.262</td>\n",
              "      <td>0.066</td>\n",
              "      <td>-0.650</td>\n",
              "      <td>0.514</td>\n",
              "      <td>-0.081</td>\n",
              "      <td>0.314</td>\n",
              "      <td>-0.121</td>\n",
              "    </tr>\n",
              "    <tr>\n",
              "      <th>Total Phenols</th>\n",
              "      <td>0.385</td>\n",
              "      <td>-0.096</td>\n",
              "      <td>0.177</td>\n",
              "      <td>0.246</td>\n",
              "      <td>-0.011</td>\n",
              "      <td>0.087</td>\n",
              "      <td>-0.083</td>\n",
              "      <td>-0.376</td>\n",
              "    </tr>\n",
              "    <tr>\n",
              "      <th>Flavonoid</th>\n",
              "      <td>0.420</td>\n",
              "      <td>-0.015</td>\n",
              "      <td>0.182</td>\n",
              "      <td>0.180</td>\n",
              "      <td>-0.032</td>\n",
              "      <td>0.012</td>\n",
              "      <td>-0.086</td>\n",
              "      <td>-0.175</td>\n",
              "    </tr>\n",
              "    <tr>\n",
              "      <th>Non Flavonoid Phenols</th>\n",
              "      <td>-0.299</td>\n",
              "      <td>-0.076</td>\n",
              "      <td>0.203</td>\n",
              "      <td>0.046</td>\n",
              "      <td>-0.459</td>\n",
              "      <td>0.322</td>\n",
              "      <td>0.615</td>\n",
              "      <td>-0.285</td>\n",
              "    </tr>\n",
              "    <tr>\n",
              "      <th>Proanthocyanins</th>\n",
              "      <td>0.308</td>\n",
              "      <td>-0.074</td>\n",
              "      <td>0.151</td>\n",
              "      <td>0.331</td>\n",
              "      <td>0.377</td>\n",
              "      <td>0.416</td>\n",
              "      <td>0.394</td>\n",
              "      <td>0.371</td>\n",
              "    </tr>\n",
              "    <tr>\n",
              "      <th>Color Intensity</th>\n",
              "      <td>-0.119</td>\n",
              "      <td>-0.534</td>\n",
              "      <td>-0.124</td>\n",
              "      <td>0.117</td>\n",
              "      <td>0.058</td>\n",
              "      <td>0.392</td>\n",
              "      <td>-0.181</td>\n",
              "      <td>0.011</td>\n",
              "    </tr>\n",
              "    <tr>\n",
              "      <th>Hue</th>\n",
              "      <td>0.299</td>\n",
              "      <td>0.281</td>\n",
              "      <td>0.073</td>\n",
              "      <td>-0.281</td>\n",
              "      <td>-0.365</td>\n",
              "      <td>-0.059</td>\n",
              "      <td>0.293</td>\n",
              "      <td>0.416</td>\n",
              "    </tr>\n",
              "    <tr>\n",
              "      <th>OD280/OD315 of diluted wines</th>\n",
              "      <td>0.384</td>\n",
              "      <td>0.143</td>\n",
              "      <td>0.214</td>\n",
              "      <td>0.154</td>\n",
              "      <td>-0.051</td>\n",
              "      <td>-0.212</td>\n",
              "      <td>-0.032</td>\n",
              "      <td>-0.070</td>\n",
              "    </tr>\n",
              "    <tr>\n",
              "      <th>Proline</th>\n",
              "      <td>0.276</td>\n",
              "      <td>-0.381</td>\n",
              "      <td>-0.143</td>\n",
              "      <td>-0.156</td>\n",
              "      <td>-0.232</td>\n",
              "      <td>-0.104</td>\n",
              "      <td>0.068</td>\n",
              "      <td>-0.086</td>\n",
              "    </tr>\n",
              "  </tbody>\n",
              "</table>\n",
              "</div>"
            ],
            "text/plain": [
              "                                  0      1      2  ...      5      6      7\n",
              "Alcohol                       0.128 -0.493 -0.185  ... -0.186 -0.042  0.492\n",
              "Malic Acid                   -0.256 -0.190  0.142  ... -0.656  0.361  0.019\n",
              "Ash                          -0.022 -0.317  0.610  ... -0.120 -0.180 -0.105\n",
              "Alkalinity of Ash            -0.244  0.035  0.595  ...  0.127 -0.255  0.394\n",
              "Magnesium                     0.148 -0.262  0.066  ... -0.081  0.314 -0.121\n",
              "Total Phenols                 0.385 -0.096  0.177  ...  0.087 -0.083 -0.376\n",
              "Flavonoid                     0.420 -0.015  0.182  ...  0.012 -0.086 -0.175\n",
              "Non Flavonoid Phenols        -0.299 -0.076  0.203  ...  0.322  0.615 -0.285\n",
              "Proanthocyanins               0.308 -0.074  0.151  ...  0.416  0.394  0.371\n",
              "Color Intensity              -0.119 -0.534 -0.124  ...  0.392 -0.181  0.011\n",
              "Hue                           0.299  0.281  0.073  ... -0.059  0.293  0.416\n",
              "OD280/OD315 of diluted wines  0.384  0.143  0.214  ... -0.212 -0.032 -0.070\n",
              "Proline                       0.276 -0.381 -0.143  ... -0.104  0.068 -0.086\n",
              "\n",
              "[13 rows x 8 columns]"
            ]
          },
          "metadata": {
            "tags": []
          },
          "execution_count": 54
        }
      ]
    },
    {
      "cell_type": "code",
      "metadata": {
        "id": "Wrlx6lTlxUZ_",
        "colab_type": "code",
        "colab": {
          "base_uri": "https://localhost:8080/",
          "height": 51
        },
        "outputId": "8ac266ee-b1ac-46fb-c620-f74f35f7af3d"
      },
      "source": [
        "pca = PCA(n_components=None)\n",
        "pca.fit(X_train_sc)"
      ],
      "execution_count": 74,
      "outputs": [
        {
          "output_type": "execute_result",
          "data": {
            "text/plain": [
              "PCA(copy=True, iterated_power='auto', n_components=None, random_state=None,\n",
              "    svd_solver='auto', tol=0.0, whiten=False)"
            ]
          },
          "metadata": {
            "tags": []
          },
          "execution_count": 74
        }
      ]
    },
    {
      "cell_type": "code",
      "metadata": {
        "id": "rXsl7w17xbfo",
        "colab_type": "code",
        "colab": {}
      },
      "source": [
        "data = pca.transform(X_train_sc)"
      ],
      "execution_count": 56,
      "outputs": []
    },
    {
      "cell_type": "code",
      "metadata": {
        "id": "RJrLCRIdAiKD",
        "colab_type": "code",
        "colab": {
          "base_uri": "https://localhost:8080/",
          "height": 419
        },
        "outputId": "5700caaa-dcc5-4f61-80ce-d7be23dcfef2"
      },
      "source": [
        "pd.DataFrame(data)"
      ],
      "execution_count": 57,
      "outputs": [
        {
          "output_type": "execute_result",
          "data": {
            "text/html": [
              "<div>\n",
              "<style scoped>\n",
              "    .dataframe tbody tr th:only-of-type {\n",
              "        vertical-align: middle;\n",
              "    }\n",
              "\n",
              "    .dataframe tbody tr th {\n",
              "        vertical-align: top;\n",
              "    }\n",
              "\n",
              "    .dataframe thead th {\n",
              "        text-align: right;\n",
              "    }\n",
              "</style>\n",
              "<table border=\"1\" class=\"dataframe\">\n",
              "  <thead>\n",
              "    <tr style=\"text-align: right;\">\n",
              "      <th></th>\n",
              "      <th>0</th>\n",
              "      <th>1</th>\n",
              "      <th>2</th>\n",
              "      <th>3</th>\n",
              "      <th>4</th>\n",
              "      <th>5</th>\n",
              "      <th>6</th>\n",
              "      <th>7</th>\n",
              "      <th>8</th>\n",
              "      <th>9</th>\n",
              "      <th>10</th>\n",
              "      <th>11</th>\n",
              "      <th>12</th>\n",
              "    </tr>\n",
              "  </thead>\n",
              "  <tbody>\n",
              "    <tr>\n",
              "      <th>0</th>\n",
              "      <td>-1.166027</td>\n",
              "      <td>-3.615327</td>\n",
              "      <td>1.151285</td>\n",
              "      <td>1.167179</td>\n",
              "      <td>0.221634</td>\n",
              "      <td>3.062380</td>\n",
              "      <td>-0.553745</td>\n",
              "      <td>0.918085</td>\n",
              "      <td>-0.639966</td>\n",
              "      <td>0.262397</td>\n",
              "      <td>-0.112150</td>\n",
              "      <td>0.071476</td>\n",
              "      <td>-0.755592</td>\n",
              "    </tr>\n",
              "    <tr>\n",
              "      <th>1</th>\n",
              "      <td>-3.862612</td>\n",
              "      <td>-0.482177</td>\n",
              "      <td>1.727584</td>\n",
              "      <td>0.467086</td>\n",
              "      <td>-0.226540</td>\n",
              "      <td>-1.016510</td>\n",
              "      <td>1.257686</td>\n",
              "      <td>-0.113136</td>\n",
              "      <td>-0.005981</td>\n",
              "      <td>-0.453600</td>\n",
              "      <td>0.504570</td>\n",
              "      <td>-0.182884</td>\n",
              "      <td>-0.122403</td>\n",
              "    </tr>\n",
              "    <tr>\n",
              "      <th>2</th>\n",
              "      <td>2.283538</td>\n",
              "      <td>1.275033</td>\n",
              "      <td>-0.131677</td>\n",
              "      <td>1.107830</td>\n",
              "      <td>0.215798</td>\n",
              "      <td>1.004315</td>\n",
              "      <td>-0.979052</td>\n",
              "      <td>-0.678263</td>\n",
              "      <td>-0.481336</td>\n",
              "      <td>-0.777822</td>\n",
              "      <td>0.480180</td>\n",
              "      <td>-0.458933</td>\n",
              "      <td>0.415850</td>\n",
              "    </tr>\n",
              "    <tr>\n",
              "      <th>3</th>\n",
              "      <td>-1.678507</td>\n",
              "      <td>-2.496962</td>\n",
              "      <td>0.556619</td>\n",
              "      <td>1.131270</td>\n",
              "      <td>-0.003420</td>\n",
              "      <td>2.754779</td>\n",
              "      <td>-0.666927</td>\n",
              "      <td>0.150849</td>\n",
              "      <td>-0.121445</td>\n",
              "      <td>-0.123055</td>\n",
              "      <td>-0.319599</td>\n",
              "      <td>0.045823</td>\n",
              "      <td>-0.791136</td>\n",
              "    </tr>\n",
              "    <tr>\n",
              "      <th>4</th>\n",
              "      <td>1.572842</td>\n",
              "      <td>0.688203</td>\n",
              "      <td>-1.417945</td>\n",
              "      <td>-0.425082</td>\n",
              "      <td>-0.674013</td>\n",
              "      <td>-0.320546</td>\n",
              "      <td>-0.078362</td>\n",
              "      <td>-0.127387</td>\n",
              "      <td>0.251356</td>\n",
              "      <td>-0.275627</td>\n",
              "      <td>0.309145</td>\n",
              "      <td>-0.119233</td>\n",
              "      <td>0.353050</td>\n",
              "    </tr>\n",
              "    <tr>\n",
              "      <th>...</th>\n",
              "      <td>...</td>\n",
              "      <td>...</td>\n",
              "      <td>...</td>\n",
              "      <td>...</td>\n",
              "      <td>...</td>\n",
              "      <td>...</td>\n",
              "      <td>...</td>\n",
              "      <td>...</td>\n",
              "      <td>...</td>\n",
              "      <td>...</td>\n",
              "      <td>...</td>\n",
              "      <td>...</td>\n",
              "      <td>...</td>\n",
              "    </tr>\n",
              "    <tr>\n",
              "      <th>137</th>\n",
              "      <td>1.646677</td>\n",
              "      <td>0.920966</td>\n",
              "      <td>1.955566</td>\n",
              "      <td>0.314591</td>\n",
              "      <td>-0.838742</td>\n",
              "      <td>-0.103732</td>\n",
              "      <td>-1.441185</td>\n",
              "      <td>1.878092</td>\n",
              "      <td>-1.031495</td>\n",
              "      <td>-0.487055</td>\n",
              "      <td>-0.277463</td>\n",
              "      <td>-0.363199</td>\n",
              "      <td>-0.251027</td>\n",
              "    </tr>\n",
              "    <tr>\n",
              "      <th>138</th>\n",
              "      <td>-0.248324</td>\n",
              "      <td>2.108473</td>\n",
              "      <td>-0.401127</td>\n",
              "      <td>0.662104</td>\n",
              "      <td>-0.363045</td>\n",
              "      <td>0.286398</td>\n",
              "      <td>-0.201445</td>\n",
              "      <td>0.218571</td>\n",
              "      <td>0.541342</td>\n",
              "      <td>0.589346</td>\n",
              "      <td>-0.385403</td>\n",
              "      <td>0.594517</td>\n",
              "      <td>0.226736</td>\n",
              "    </tr>\n",
              "    <tr>\n",
              "      <th>139</th>\n",
              "      <td>4.223390</td>\n",
              "      <td>-2.403459</td>\n",
              "      <td>-1.137047</td>\n",
              "      <td>0.905991</td>\n",
              "      <td>-0.673900</td>\n",
              "      <td>0.556481</td>\n",
              "      <td>0.889966</td>\n",
              "      <td>0.285528</td>\n",
              "      <td>0.870520</td>\n",
              "      <td>-0.669495</td>\n",
              "      <td>-0.129306</td>\n",
              "      <td>-0.205881</td>\n",
              "      <td>-0.047855</td>\n",
              "    </tr>\n",
              "    <tr>\n",
              "      <th>140</th>\n",
              "      <td>-1.805273</td>\n",
              "      <td>1.490920</td>\n",
              "      <td>-0.089911</td>\n",
              "      <td>0.162752</td>\n",
              "      <td>-1.215320</td>\n",
              "      <td>1.066063</td>\n",
              "      <td>0.607321</td>\n",
              "      <td>0.446454</td>\n",
              "      <td>0.374641</td>\n",
              "      <td>0.603541</td>\n",
              "      <td>-0.507303</td>\n",
              "      <td>-0.484378</td>\n",
              "      <td>0.466768</td>\n",
              "    </tr>\n",
              "    <tr>\n",
              "      <th>141</th>\n",
              "      <td>-0.078087</td>\n",
              "      <td>1.193279</td>\n",
              "      <td>1.044400</td>\n",
              "      <td>0.319054</td>\n",
              "      <td>0.401311</td>\n",
              "      <td>-0.587957</td>\n",
              "      <td>-0.675202</td>\n",
              "      <td>-0.814767</td>\n",
              "      <td>-0.361991</td>\n",
              "      <td>0.717003</td>\n",
              "      <td>-0.240251</td>\n",
              "      <td>0.051802</td>\n",
              "      <td>-0.281537</td>\n",
              "    </tr>\n",
              "  </tbody>\n",
              "</table>\n",
              "<p>142 rows × 13 columns</p>\n",
              "</div>"
            ],
            "text/plain": [
              "           0         1         2   ...        10        11        12\n",
              "0   -1.166027 -3.615327  1.151285  ... -0.112150  0.071476 -0.755592\n",
              "1   -3.862612 -0.482177  1.727584  ...  0.504570 -0.182884 -0.122403\n",
              "2    2.283538  1.275033 -0.131677  ...  0.480180 -0.458933  0.415850\n",
              "3   -1.678507 -2.496962  0.556619  ... -0.319599  0.045823 -0.791136\n",
              "4    1.572842  0.688203 -1.417945  ...  0.309145 -0.119233  0.353050\n",
              "..        ...       ...       ...  ...       ...       ...       ...\n",
              "137  1.646677  0.920966  1.955566  ... -0.277463 -0.363199 -0.251027\n",
              "138 -0.248324  2.108473 -0.401127  ... -0.385403  0.594517  0.226736\n",
              "139  4.223390 -2.403459 -1.137047  ... -0.129306 -0.205881 -0.047855\n",
              "140 -1.805273  1.490920 -0.089911  ... -0.507303 -0.484378  0.466768\n",
              "141 -0.078087  1.193279  1.044400  ... -0.240251  0.051802 -0.281537\n",
              "\n",
              "[142 rows x 13 columns]"
            ]
          },
          "metadata": {
            "tags": []
          },
          "execution_count": 57
        }
      ]
    },
    {
      "cell_type": "markdown",
      "metadata": {
        "id": "d2_d-Cj0E-8s",
        "colab_type": "text"
      },
      "source": [
        "### **Plotting 2 dimensional PCA:**"
      ]
    },
    {
      "cell_type": "code",
      "metadata": {
        "id": "Dt2ZeupQNQ45",
        "colab_type": "code",
        "colab": {
          "base_uri": "https://localhost:8080/",
          "height": 506
        },
        "outputId": "49de2cea-357b-40ca-83bc-403e926e8496"
      },
      "source": [
        "plt.figure(figsize = (10, 8))\n",
        "colour = {1:'red', 2:'blue', 3:'green'}\n",
        "y_c = map(colour.get, y_train)\n",
        "plt.scatter(data[:,0], data[:, 1], c = y_train, cmap = 'Accent')\n",
        "plt.xlabel('Component 1')\n",
        "plt.ylabel('Component 2')\n",
        "plt.colorbar();"
      ],
      "execution_count": 87,
      "outputs": [
        {
          "output_type": "display_data",
          "data": {
            "image/png": "[encoded data removed]",
            "text/plain": [
              "<Figure size 720x576 with 2 Axes>"
            ]
          },
          "metadata": {
            "tags": []
          }
        }
      ]
    },
    {
      "cell_type": "markdown",
      "metadata": {
        "id": "sG8CFwdQUhS4",
        "colab_type": "text"
      },
      "source": [
        "As you can see, even with only PCA components, we have a sufficient separation of the training set."
      ]
    },
    {
      "cell_type": "code",
      "metadata": {
        "id": "mE2oVws4QdKy",
        "colab_type": "code",
        "colab": {}
      },
      "source": [
        ""
      ],
      "execution_count": null,
      "outputs": []
    }
  ]
}